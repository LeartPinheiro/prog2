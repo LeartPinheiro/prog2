{
  "nbformat": 4,
  "nbformat_minor": 0,
  "metadata": {
    "colab": {
      "provenance": [],
      "collapsed_sections": [],
      "include_colab_link": true
    },
    "kernelspec": {
      "name": "python3",
      "display_name": "Python 3"
    },
    "language_info": {
      "name": "python"
    }
  },
  "cells": [
    {
      "cell_type": "markdown",
      "metadata": {
        "id": "view-in-github",
        "colab_type": "text"
      },
      "source": [
        "<a href=\"https://colab.research.google.com/github/LeartPinheiro/prog2/blob/main/Exerc%C3%ADcio_Dicion%C3%A1rios.ipynb\" target=\"_parent\"><img src=\"https://colab.research.google.com/assets/colab-badge.svg\" alt=\"Open In Colab\"/></a>"
      ]
    },
    {
      "cell_type": "markdown",
      "source": [
        "**Tabuleiro**: Faça um código para mostrar as casas de um tabuleiro, como no exemplo de execução abaixo:\n",
        "\n",
        "Para ajudar: a lista com os números das casas e o dicionário com os prêmios das casas já estão disponíveis."
      ],
      "metadata": {
        "id": "ifAZa6_N8m7A"
      }
    },
    {
      "cell_type": "code",
      "source": [
        "casas = [i for i in range(22)]\n",
        "premios = {0: 'Início',\n",
        "          1: 'Avance 3 casas',\n",
        "          6: 'Volte 2 casas',\n",
        "          8: 'Avance 2 casas',\n",
        "          10: 'Volte 3 casas',\n",
        "          13: 'Avance 1 casa',\n",
        "          19: 'Volte 1 casa',\n",
        "          21: 'Chegada' \n",
        "          }\n",
        "          \n",
        "#Seu código aqui\n",
        "def print_board():\n",
        "  for casa in casas:\n",
        "    if casa in premios:\n",
        "      print(f\"{casa} {premios[casa]}\")\n",
        "    else:\n",
        "      print(casa)\n"
      ],
      "metadata": {
        "id": "MVSJRHvd9n1n"
      },
      "execution_count": null,
      "outputs": []
    },
    {
      "cell_type": "code",
      "execution_count": null,
      "metadata": {
        "colab": {
          "base_uri": "https://localhost:8080/"
        },
        "id": "tDmZh41Ys9NZ",
        "outputId": "c9eb941a-8c70-47e0-cf28-6916bb4c37e4"
      },
      "outputs": [
        {
          "output_type": "stream",
          "name": "stdout",
          "text": [
            "0 Início\n",
            "1 Avance 3 casas\n",
            "2\n",
            "3\n",
            "4\n",
            "5\n",
            "6 Volte 2 casas\n",
            "7\n",
            "8 Avance 2 casas\n",
            "9\n",
            "10 Volte 3 casas\n",
            "11\n",
            "12\n",
            "13 Avance 1 casa\n",
            "14\n",
            "15\n",
            "16\n",
            "17\n",
            "18\n",
            "19 Volte 1 casa\n",
            "20\n",
            "21 Chegada\n"
          ]
        }
      ],
      "source": [
        "#Exemplo de execução\n",
        "print_board()"
      ]
    },
    {
      "cell_type": "markdown",
      "source": [
        "**Jogo dos estados**: Faça um jogo que pergunte ao usuário as capitais dos estados brasileiros, como no exemplo abaixo.\n",
        "\n",
        "Para ajudar o dicionário com estados e capitais e o código que escolhe aleatoriamente já estão disponíveis."
      ],
      "metadata": {
        "id": "63vWwro88-G0"
      }
    },
    {
      "cell_type": "code",
      "source": [
        "import random\n",
        "\n",
        "estados = {\n",
        "    'ACRE': 'Rio Branco',\n",
        "    'ALAGOAS': 'Maceió',\n",
        "    'AMAPÁ': 'Macapá',\n",
        "    'AMAZONAS': 'Manaus',\n",
        "    'BAHIA': 'Salvador',\n",
        "    'CEARÁ': 'Fortaleza',\n",
        "    'ESPÍRITO SANTO': 'Vitória',\n",
        "    'GOIÁS': 'Goiânia',\n",
        "    'MARANHÃO': 'São Luíz',\n",
        "    'MATO GROSSO': 'Cuiabá',\n",
        "    'MATO GROSSO DO SUL': 'Campo Grande',\n",
        "    'MINAS GERAIS': 'Belo Horizonte',\n",
        "    'PARÁ': 'Belém',\n",
        "    'PARAÍBA': 'João Pessoa',\n",
        "    'PARANÁ': 'Curitiba',\n",
        "    'PERNAMBUCO': 'Recife',\n",
        "    'PIAUÍ': 'Teresina',\n",
        "    'RIO DE JANEIRO': 'Rio de Janeiro',\n",
        "    'RIO GRANDE DO NORTE': 'Natal',\n",
        "    'RIO GRANDE DO SUL': 'Porto Alegre',\n",
        "    'RONDÔNIA': 'Porto Velho',\n",
        "    'RORAIMA': 'Boa Vista',\n",
        "    'SANTA CATARINA': 'Florianópolis',\n",
        "    'SÃO PAULO': 'São Paulo',\n",
        "    'SERGIPE': 'Aracaju',\n",
        "    'TOCANTINS': 'Palmas', \n",
        "}\n"
      ],
      "metadata": {
        "colab": {
          "base_uri": "https://localhost:8080/"
        },
        "id": "ahYzwwN92J3E",
        "outputId": "b0771d47-3efe-49fe-f9e6-4b9e54c204e4"
      },
      "execution_count": null,
      "outputs": [
        {
          "output_type": "stream",
          "name": "stdout",
          "text": [
            "('CEARÁ', 'Fortaleza')\n",
            "CEARÁ\n",
            "Fortaleza\n"
          ]
        }
      ]
    },
    {
      "cell_type": "code",
      "source": [
        "#Seu código aqui\n"
      ],
      "metadata": {
        "id": "RC7VQsqw-FBy"
      },
      "execution_count": null,
      "outputs": []
    },
    {
      "cell_type": "code",
      "source": [],
      "metadata": {
        "id": "h8SQvhD2cwiS"
      },
      "execution_count": null,
      "outputs": []
    },
    {
      "cell_type": "code",
      "source": [
        "#Exemplo de execução"
      ],
      "metadata": {
        "colab": {
          "base_uri": "https://localhost:8080/"
        },
        "id": "N7OSx6Ki34fe",
        "outputId": "51deec7e-39ca-40b4-a823-997adc8b7d18"
      },
      "execution_count": null,
      "outputs": [
        {
          "output_type": "stream",
          "name": "stdout",
          "text": [
            "\n",
            "Qual a capital do estado abaixo?\n",
            "BAHIA\n",
            "\n",
            "Sua resposta: Salvador\n",
            "\n",
            "Parabéns! Você acertou!\n",
            "\n",
            "Aperte n para sair ou outra tecla para continuar...\n",
            "\n",
            "Qual a capital do estado abaixo?\n",
            "ALAGOAS\n",
            "\n",
            "Sua resposta: maceió\n",
            "\n",
            "Parabéns! Você acertou!\n",
            "\n",
            "Aperte n para sair ou outra tecla para continuar...\n",
            "\n",
            "Qual a capital do estado abaixo?\n",
            "ESPÍRITO SANTO\n",
            "\n",
            "Sua resposta: vitória\n",
            "\n",
            "Parabéns! Você acertou!\n",
            "\n",
            "Aperte n para sair ou outra tecla para continuar...\n",
            "\n",
            "Qual a capital do estado abaixo?\n",
            "MATO GROSSO\n",
            "\n",
            "Sua resposta: cuiabá\n",
            "\n",
            "Parabéns! Você acertou!\n",
            "\n",
            "Aperte n para sair ou outra tecla para continuar...\n",
            "\n",
            "Qual a capital do estado abaixo?\n",
            "RORAIMA\n",
            "\n",
            "Sua resposta: boa vista\n",
            "\n",
            "Parabéns! Você acertou!\n",
            "\n",
            "Aperte n para sair ou outra tecla para continuar...\n",
            "\n",
            "Qual a capital do estado abaixo?\n",
            "PARÁ\n",
            "\n",
            "Sua resposta: belém\n",
            "\n",
            "Parabéns! Você acertou!\n",
            "\n",
            "Aperte n para sair ou outra tecla para continuar...n\n",
            "\n",
            "Seu percentual de acerto foi: 100.0%\n"
          ]
        }
      ]
    },
    {
      "cell_type": "markdown",
      "source": [
        "**Jogo dos Estados versão 2**: Nosso dicionário agora está maior! Adapte o jogo para que o usuário responda o nome do estado, a capital e sua região. Observe o exemplo de execução."
      ],
      "metadata": {
        "id": "Tqz8J2U7qGWi"
      }
    },
    {
      "cell_type": "code",
      "source": [
        "import random\n",
        "\n",
        "estados = {\n",
        "    'AC': {'estado':'ACRE','capital':'Rio Branco', 'região':'Norte'},\n",
        "    'AL': {'estado':'ALAGOAS','capital':'Maceió', 'região':'Nordeste'},\n",
        "    'AP': {'estado':'AMAPÁ','capital':'Macapá', 'região':'Norte'},\n",
        "    'AM': {'estado':'AMAZONAS','capital':'Manaus', 'região':'Norte'},\n",
        "    'BA': {'estado':'BAHIA','capital':'Salvador', 'região':'Nordeste'},\n",
        "    'CE': {'estado':'CEARÁ','capital':'Fortaleza', 'região':'Nordeste'},\n",
        "    'ES': {'estado':'ESPÍRITO SANTO','capital':'Vitória', 'região':'Sudeste'},\n",
        "    'GO': {'estado':'GOIÁS','capital':'Goiânia', 'região':'Centro-oeste'},\n",
        "    'MA': {'estado':'MARANHÃO','capital':'São Luíz', 'região':'Nordeste'},\n",
        "    'MT': {'estado':'MATO GROSSO','capital':'Cuiabá', 'região':'Centro-oeste'},\n",
        "    'MS': {'estado':'MATO GROSSO DO SUL','capital':'Campo Grande', 'região':'Centro-oeste'},\n",
        "    'MG': {'estado':'MINAS GERAIS','capital':'Belo Horizonte', 'região':'Sudeste'},\n",
        "    'PA': {'estado':'PARÁ','capital':'Belém', 'região':'Norte'},\n",
        "    'PB': {'estado':'PARAÍBA','capital':'João Pessoa', 'região':'Nordeste'},\n",
        "    'PR': {'estado':'PARANÁ','capital':'Curitiba', 'região':'Sul'},\n",
        "    'PE': {'estado':'PERNAMBUCO','capital':'Recife', 'região':'Nordeste'},\n",
        "    'PI': {'estado':'PIAUÍ','capital':'Teresina', 'região':'Nordeste'},\n",
        "    'RJ': {'estado':'RIO DE JANEIRO','capital':'Rio de Janeiro', 'região':'Sudeste'},\n",
        "    'RN': {'estado':'RIO GRANDE DO NORTE','capital':'Natal', 'região':'Nordeste'},\n",
        "    'RS': {'estado':'RIO GRANDE DO SUL','capital':'Porto Alegre', 'região':'Sul'},\n",
        "    'RO': {'estado':'RONDÔNIA','capital':'Porto Velho', 'região':'Norte'},\n",
        "    'RR': {'estado':'RORAIMA','capital':'Boa Vista', 'região':'Norte'},\n",
        "    'SC': {'estado':'SANTA CATARINA','capital':'Florianópolis', 'região':'Sul'},\n",
        "    'SP': {'estado':'SÃO PAULO','capital':'São Paulo', 'região':'Sudeste'},\n",
        "    'SE': {'estado':'SERGIPE','capital':'Aracaju', 'região':'Nordeste'},\n",
        "    'TO': {'estado':'TOCATINS','capital':'Palmas', 'região':'Norte'}\n",
        "}\n",
        "\n",
        "#Seu código aqui\n",
        "\n",
        "def pergunta(perg):\n",
        "  CHAVES = [\"estado\",\"capital\",\"região\"]\n",
        "  acertos = 0\n",
        "  for k in CHAVES:\n",
        "    if input(\"\\n\" + k.upper() + \": \").lower() == perg[k].lower():\n",
        "      acertos += 1\n",
        "      print(\"\\nVocê acertou, parabens!\")\n",
        "    else:\n",
        "      print(\"\\nVoce errou!\")\n",
        "  return acertos\n",
        "\n",
        "def quiz(ests):\n",
        "  acertos = 0\n",
        "  opcoes_restantes = list(ests.keys())\n",
        "  while True:\n",
        "    st = random.choice(opcoes_restantes)\n",
        "    opcoes_restantes.remove(st)\n",
        "    print(f\"\\nResponda sobre o estado que tem a sigla {st}...\")\n",
        "    acertos += pergunta(ests[st])\n",
        "    if input(\"\\nAperte n para sair ou outra tecla para continuar... \").lower() == 'n':\n",
        "      pontuacao = acertos / ((len(ests) - len(opcoes_restantes)) * 3) * 100\n",
        "      print(f\"\\nSeu percentual de acerto foi: {pontuacao:.2f}%\")\n",
        "      break\n",
        "\n",
        "quiz(estados)\n"
      ],
      "metadata": {
        "id": "oBtxNlV2sv1A",
        "colab": {
          "base_uri": "https://localhost:8080/"
        },
        "outputId": "d79a54fd-3bde-436f-ed2d-66583176b714"
      },
      "execution_count": null,
      "outputs": [
        {
          "output_type": "stream",
          "name": "stdout",
          "text": [
            "\n",
            "1Responda sobre o estado que tem a sigla RJ...\n",
            "\n",
            "ESTADO: rio de janeiro\n",
            "\n",
            "Você acertou, parabens!\n",
            "\n",
            "CAPITAL: rio de janeiro\n",
            "\n",
            "Você acertou, parabens!\n",
            "\n",
            "REGIÃO: sudeste\n",
            "\n",
            "Você acertou, parabens!\n",
            "\n",
            "Aperte n para sair ou outra tecla para continuar... d\n",
            "\n",
            "1Responda sobre o estado que tem a sigla SC...\n",
            "\n",
            "ESTADO: santa catarina\n",
            "\n",
            "Você acertou, parabens!\n",
            "\n",
            "CAPITAL: parana\n",
            "\n",
            "Voce errou!\n",
            "\n",
            "REGIÃO: sudeste\n",
            "\n",
            "Voce errou!\n",
            "\n",
            "Aperte n para sair ou outra tecla para continuar... n\n",
            "\n",
            "Seu percentual de acerto foi: 66.67%\n"
          ]
        }
      ]
    },
    {
      "cell_type": "code",
      "source": [
        "#Exemplo de execução"
      ],
      "metadata": {
        "colab": {
          "base_uri": "https://localhost:8080/"
        },
        "id": "XshcWiRbqGe3",
        "outputId": "63ea95f6-403c-45b5-9143-41cdffdfbeaf"
      },
      "execution_count": null,
      "outputs": [
        {
          "output_type": "stream",
          "name": "stdout",
          "text": [
            "\n",
            "Responda sobre o estado que tem a sigla RO...\n",
            "\n",
            "\n",
            "ESTADO: Rondônia\n",
            "\n",
            "Parabéns! Você acertou!\n",
            "\n",
            "CAPITAL: Porto Velho\n",
            "\n",
            "Parabéns! Você acertou!\n",
            "\n",
            "REGIÃO: Norte\n",
            "\n",
            "Parabéns! Você acertou!\n",
            "\n",
            "Aperte n para sair ou outra tecla para continuar...\n",
            "\n",
            "Responda sobre o estado que tem a sigla SC...\n",
            "\n",
            "\n",
            "ESTADO: Santa Catarina, vou errar de propósito :/\n",
            "\n",
            "Precisa estudar mais! A resposta correta é SANTA CATARINA\n",
            "\n",
            "CAPITAL: Florianópolis\n",
            "\n",
            "Parabéns! Você acertou!\n",
            "\n",
            "REGIÃO: Sul\n",
            "\n",
            "Parabéns! Você acertou!\n",
            "\n",
            "Aperte n para sair ou outra tecla para continuar...n\n",
            "\n",
            "Seu percentual de acerto foi: 83.33%\n"
          ]
        }
      ]
    }
  ]
}